{
 "cells": [
  {
   "cell_type": "markdown",
   "id": "2151e5e9",
   "metadata": {},
   "source": [
    "# Iterators - Exercise 1 🐍\n",
    "\n",
    "create \n",
    "\n",
    "*\n",
    "**\n",
    "***\n",
    "****\n",
    "*****\n",
    "\n",
    "this shape with print and while loop statemets"
   ]
  },
  {
   "cell_type": "code",
   "execution_count": 1,
   "id": "33aa6f5e",
   "metadata": {},
   "outputs": [
    {
     "name": "stdout",
     "output_type": "stream",
     "text": [
      "* \n",
      "* * \n",
      "* * * \n",
      "* * * * \n",
      "* * * * * \n"
     ]
    }
   ],
   "source": [
    "i = 1\n",
    "while i <= 5 :\n",
    "    j = 1\n",
    "    while j <= i:\n",
    "        print(\"*\", end = \" \")\n",
    "        j += 1\n",
    "    print()\n",
    "    i += 1"
   ]
  },
  {
   "cell_type": "markdown",
   "id": "2037c425",
   "metadata": {},
   "source": [
    "# Iterators - Exercise 2 🐍\n",
    "\n",
    "create \n",
    "`\n",
    "*\n",
    "***\n",
    "*****\n",
    "`\n",
    "this shape with print, for loop, if and continue statements"
   ]
  },
  {
   "cell_type": "code",
   "execution_count": 2,
   "id": "a801994e",
   "metadata": {
    "scrolled": true
   },
   "outputs": [
    {
     "name": "stdout",
     "output_type": "stream",
     "text": [
      "* \n",
      "\n",
      "* * \n",
      "\n",
      "* * * \n",
      "\n",
      "* * * * \n",
      "\n",
      "* * * * * \n",
      "\n"
     ]
    }
   ],
   "source": [
    "i = 5\n",
    "for i in range(i):\n",
    "    for j in range(i+1):\n",
    "        print(\"* \", end=\"\")\n",
    "    print(\"\\n\")"
   ]
  },
  {
   "cell_type": "markdown",
   "id": "3764c94d",
   "metadata": {},
   "source": [
    "# Iterators - Exercise 3 🐍\n",
    "\n",
    "check if it is time for `coffee break` if it is just break \n",
    "to do that lets iterate through given list don't change the `COFFEE BREAK` statement\n",
    "just find another way to do it "
   ]
  },
  {
   "cell_type": "code",
   "execution_count": 3,
   "id": "fafa6cde",
   "metadata": {},
   "outputs": [
    {
     "name": "stdout",
     "output_type": "stream",
     "text": [
      "exercise1\n",
      "exercise2\n",
      "exercise3\n",
      "coffee break\n"
     ]
    }
   ],
   "source": [
    "todo = [\"exercise1\", \"exercise2\", \"exercise3\",\"coffee break\" ,\"exercise4\",\"exercise5\",\"exercise6\"]\n",
    "for x in todo:\n",
    "    print(x)\n",
    "    if x == \"COFFEE BREAK\".lower():\n",
    "        break\n",
    "\n",
    "  "
   ]
  },
  {
   "cell_type": "markdown",
   "id": "988e8a74",
   "metadata": {},
   "source": [
    "# Iterators - Exercise 4 🐍\n",
    "\n",
    "\n",
    "iterate each elements of `list1`,`tuple1`,`set1` and print them out \n",
    "\n",
    "for the `dict1` iterate all elements but only print the ones who are living on land\n",
    "in the form of `x lives in y`\n",
    "\n"
   ]
  },
  {
   "cell_type": "code",
   "execution_count": 4,
   "id": "e6378b6b",
   "metadata": {},
   "outputs": [
    {
     "name": "stdout",
     "output_type": "stream",
     "text": [
      "lion monkey dog fish\n",
      "lion monkey dog fish\n",
      "dog fish lion monkey \n",
      "\n",
      "lion  lives in  land\n",
      "monkey  lives in  land\n",
      "dog  lives in  land\n"
     ]
    }
   ],
   "source": [
    "list1 = [\"lion\", \"monkey\", \"dog\",\"fish\"]\n",
    "tuple1 = (\"lion\", \"monkey\", \"dog\",\"fish\")\n",
    "set1 = {\"lion\", \"monkey\", \"dog\",\"fish\"}\n",
    "print(*list1)\n",
    "print(*tuple1)\n",
    "print(*set1,\"\\n\")\n",
    "    \n",
    "dict1 = {\"lion\":\"land\", \"monkey\":\"land\", \"dog\":\"land\",\"fish\":\"water\"}\n",
    "for keys,value in dict1.items():\n",
    "    if value==\"land\":\n",
    "        print(keys,\" lives in \",value)"
   ]
  },
  {
   "cell_type": "markdown",
   "id": "c6c6a848",
   "metadata": {},
   "source": [
    "# Data Structures 🐍\n",
    "\n",
    "Remember `list`,`set`,`dictionary` are mutable and `tuple` is immutable\n",
    "`list`,`tuple` elements can be reached by index  \n",
    "for `dictionary` it is not an option to reach by index the element key has to be known to reach  \n",
    "and for `set` the items cannot be reached directly but it is possible to iterate.\n",
    "\n",
    "1. print the lengths of `list1`,`tuple1`,`set1`,`dict1`\n",
    "2. print the first element of `list1` and `tuple1`\n",
    "3. print the value of `lion` key of `dict1`\n",
    "4. change the 2nd position element of `list1` to \"rabbit\"\n",
    "5. try to change the 2nd position element of the tuple to \"rabbit\" and explain what happened.\n",
    "6. add \"monkey\" to `list1`\n",
    "7. remove \"rabbit\" from `list1`\n",
    "8. in `dict1` the number of feet is written as value to each animal the fixh has wrong value just fix it."
   ]
  },
  {
   "cell_type": "code",
   "execution_count": 5,
   "id": "7f25250b",
   "metadata": {},
   "outputs": [
    {
     "name": "stdout",
     "output_type": "stream",
     "text": [
      "1. Answer \n",
      "\n",
      "4\n",
      "4\n",
      "4\n",
      "4\n",
      "\n",
      "2. Answer \n",
      "\n",
      "['lion']\n",
      "('lion',)\n",
      "\n",
      "3. Answer \n",
      "\n",
      "4\n",
      "\n",
      "4. Answer \n",
      "\n",
      "['lion', 'rabbit', 'dog', 'fish']\n",
      "\n",
      "5. Answer \n",
      "\n",
      "['lion', 'rabbit', 'dog', 'fish']\n",
      "my explanation: tuple can not be change, so i convert to list\n",
      "\n",
      "6. Answer \n",
      "\n",
      "['lion', 'rabbit', 'dog', 'fish', 'monkey']\n",
      "\n",
      "7. Answer \n",
      "\n",
      "['lion', 'dog', 'fish', 'monkey']\n",
      "\n",
      "8. Answer \n",
      "\n",
      "{'lion': 4, 'monkey': 2, 'dog': 4, 'fish': 0}\n"
     ]
    }
   ],
   "source": [
    "list1 = [\"lion\", \"monkey\", \"dog\",\"fish\"]\n",
    "tuple1 = (\"lion\", \"monkey\", \"dog\",\"fish\")\n",
    "set1 = {\"lion\", \"monkey\", \"dog\",\"fish\"}\n",
    "dict1 = {\"lion\":4, \"monkey\":2, \"dog\":4,\"fish\":2}\n",
    "print(\"1. Answer \\n\")\n",
    "print(len(list1))\n",
    "print(len(tuple1))\n",
    "print(len(set1))\n",
    "print(len(dict1))\n",
    "\n",
    "print(\"\\n2. Answer \\n\")\n",
    "print(list1[:1])\n",
    "print(tuple1[:1])\n",
    "\n",
    "print(\"\\n3. Answer \\n\")\n",
    "for keys,value in dict1.items():\n",
    "    if keys==\"lion\":\n",
    "        print(value)\n",
    "        \n",
    "print(\"\\n4. Answer \\n\")\n",
    "list1[1]='rabbit'\n",
    "print(list1)\n",
    "\n",
    "print(\"\\n5. Answer \\n\")\n",
    "tuple_to_list=list(tuple1)\n",
    "tuple_to_list[1]='rabbit'\n",
    "print(tuple_to_list)\n",
    "print(\"my explanation: tuple can not be change, so i convert to list\")\n",
    "\n",
    "print(\"\\n6. Answer \\n\")\n",
    "list1.append('monkey')\n",
    "print(list1)\n",
    "\n",
    "print(\"\\n7. Answer \\n\")\n",
    "list1.remove('rabbit')\n",
    "print(list1)\n",
    "\n",
    "print(\"\\n8. Answer \\n\")\n",
    "dict1[\"fish\"]=0\n",
    "print(dict1)"
   ]
  },
  {
   "cell_type": "markdown",
   "id": "7659f4b5",
   "metadata": {},
   "source": [
    "# Functions - Exercise 1 🐍\n",
    "\n",
    "to create functions in python we start with `def` word and after it the `name of function` comes with without parameters  \n",
    "example is here \n",
    "```\n",
    "def hello():\n",
    "    print(\"hello\")\n",
    "```\n",
    "\n",
    "Now you create a function named goodbye without parameters which prints good bye   \n"
   ]
  },
  {
   "cell_type": "code",
   "execution_count": 6,
   "id": "198647c6",
   "metadata": {},
   "outputs": [
    {
     "name": "stdout",
     "output_type": "stream",
     "text": [
      "Good Bye Everyone!\n"
     ]
    }
   ],
   "source": [
    "def goodbye():\n",
    "    print(\"Good Bye Everyone!\")\n",
    "goodbye()"
   ]
  },
  {
   "cell_type": "markdown",
   "id": "ddc9fff3",
   "metadata": {},
   "source": [
    "# Functions - Exercise 2 🐍\n",
    "\n",
    "inside the paranthesis variables can be used those variables as known as parameters of the function provides control inside the function\n",
    "example is here \n",
    "```\n",
    "def hello(name):\n",
    "    print(f\"hello {name}\")\n",
    "```\n",
    "\n",
    "Now you create a function named goodbye with a parameter `name` and say \"Good bye Adam\"    "
   ]
  },
  {
   "cell_type": "code",
   "execution_count": 7,
   "id": "58546942",
   "metadata": {},
   "outputs": [
    {
     "name": "stdout",
     "output_type": "stream",
     "text": [
      "Good Bye Adem\n"
     ]
    }
   ],
   "source": [
    "def goodbye(name):\n",
    "    print(f\"Good Bye {name}\")\n",
    "goodbye(\"Adem\")"
   ]
  },
  {
   "cell_type": "markdown",
   "id": "fdc878c8",
   "metadata": {},
   "source": [
    "# Functions - Exercise 3 🐍\n",
    "\n",
    "lets see what is your user name on your computer   \n",
    "to do that we are going to use os molude which is a built in module in python    \n",
    "and has many built in functions in it \n",
    "\n",
    "to be able to use os fucntions   \n",
    "`import os`\n",
    "then call `getlogin` method of the module   \n",
    "then assign the output to `user` varialbe and print the user\n",
    " "
   ]
  },
  {
   "cell_type": "code",
   "execution_count": 8,
   "id": "eb9a3dea",
   "metadata": {},
   "outputs": [
    {
     "name": "stdout",
     "output_type": "stream",
     "text": [
      "Adem\n"
     ]
    }
   ],
   "source": [
    "import os\n",
    "user=os.getlogin()\n",
    "print(user)\n"
   ]
  },
  {
   "cell_type": "markdown",
   "id": "cfd6d61a",
   "metadata": {},
   "source": [
    "# Functions - Exercise 4 🐍\n",
    "\n",
    "Now create a fuction for John Doe and his family that greets every one in the family.   \n",
    "Since it will  usually John Doe the name and surname parameter must be defaulted   \n",
    "and when someone else comes it has to greet the new comer with name surname parameters which were overwritten. \n",
    "Make it possible.  \n",
    "The function have to print `\"Hello John Doe\"` where John and Doe is parametric   \n",
    "Greet each our John first then the people in the list with for loop and the function   \n",
    "What you have to use\n",
    "- for loop \n",
    "- function \n",
    "- string operation \n",
    "- list index\n",
    "\n",
    "Output format \n",
    "```\n",
    "Hello John Doe!\n",
    "Hello Tristram Mcbride!\n",
    "Hello Baldwin Preston!\n",
    "Hello Wally Collins!\n",
    "```"
   ]
  },
  {
   "cell_type": "code",
   "execution_count": 9,
   "id": "fd344da1",
   "metadata": {},
   "outputs": [
    {
     "name": "stdout",
     "output_type": "stream",
     "text": [
      "Hello John Doe !\n",
      "Hello Tristram Mcbride !\n",
      "Hello Baldwin Preston !\n",
      "Hello Wally Collins !\n"
     ]
    }
   ],
   "source": [
    "def greet(name=\"John\",surname=\"Doe\"):\n",
    "    print ('Hello', *{name},*{surname} , '!')\n",
    "    name=[\"Tristram\",\"Baldwin\",\"Wally\"]\n",
    "    surname=[\"Mcbride\",\"Preston\",\"Collins\"]  \n",
    "    for x,y in zip(name,surname):\n",
    "        print('Hello',x,y,'!')\n",
    "\n",
    "greet()"
   ]
  },
  {
   "cell_type": "markdown",
   "id": "52a6b3e9",
   "metadata": {},
   "source": [
    "# Functions - Exercise 5 🐍\n",
    "\n",
    "import random function   \n",
    "create a function `random_list_summer` creates n elemented list \n",
    "with   \n",
    "min value = -100   \n",
    "max value = 100\n",
    "it has to print the list first and sum all the elements of it   \n",
    "default element number is 15   \n",
    "Don't forget to call the function  \n",
    "for some features and functions you might have to search on the internet do it don't lose your courage :) \n"
   ]
  },
  {
   "cell_type": "code",
   "execution_count": 10,
   "id": "2d019844",
   "metadata": {},
   "outputs": [
    {
     "name": "stdout",
     "output_type": "stream",
     "text": [
      "[42]\n"
     ]
    }
   ],
   "source": [
    "import random\n",
    "random_list_summer=[]\n",
    "for i in range(-100,100):\n",
    "    n=random.randint(-100,100)\n",
    "random_list_summer.append(n)\n",
    "print(random_list_summer)"
   ]
  },
  {
   "cell_type": "code",
   "execution_count": 11,
   "id": "096280bc",
   "metadata": {},
   "outputs": [
    {
     "name": "stdout",
     "output_type": "stream",
     "text": [
      "[-56, 78, 61, -40, -9, -97, 20, 98, 38, -24, 50, -19, 92, -86, 25]\n",
      "-56\n",
      "131\n"
     ]
    }
   ],
   "source": [
    "import random\n",
    "random_list_summer=random.sample(range(-100,100),15)\n",
    "print(random_list_summer)\n",
    "print(random_list_summer[0])\n",
    "print(sum(random_list_summer))"
   ]
  },
  {
   "cell_type": "markdown",
   "id": "9f327462",
   "metadata": {},
   "source": [
    "# Functions - Exercise 6 🐍\n",
    "\n",
    "Implement [Fibonacci](https://en.wikipedia.org/wiki/Fibonacci_number) sequence as recursive function\n",
    "and print first 5 elements.\n",
    "\n",
    "\n",
    "ps:  \n",
    "use list PrintFibonacci while creating the list\n",
    "minimum element is 0 in this series"
   ]
  },
  {
   "cell_type": "code",
   "execution_count": 12,
   "id": "0c001ae4",
   "metadata": {},
   "outputs": [
    {
     "name": "stdout",
     "output_type": "stream",
     "text": [
      "0 1 1 2 3 "
     ]
    }
   ],
   "source": [
    "def PrintFibonacci(length):\n",
    "    first=0\n",
    "    second=1\n",
    "    \n",
    "    print(first,second, end=\" \")\n",
    "    \n",
    "    length -=2\n",
    "    \n",
    "    while length > 0:\n",
    "        \n",
    "        print(first+second, end=' ')\n",
    "        temp=second\n",
    "        second=first+second\n",
    "        first=temp\n",
    "        length -= 1\n",
    "PrintFibonacci(5)"
   ]
  },
  {
   "cell_type": "markdown",
   "id": "1de474e9",
   "metadata": {},
   "source": [
    "# Functions - Exercise 7 🐍\n",
    "\n",
    "Create a lambda function that returns 2nd power of given number if its even   \n",
    "and run it on the given list   \n",
    "then print the result to the screen "
   ]
  },
  {
   "cell_type": "code",
   "execution_count": 13,
   "id": "9951faff",
   "metadata": {
    "scrolled": true
   },
   "outputs": [
    {
     "name": "stdout",
     "output_type": "stream",
     "text": [
      "0 4 16 "
     ]
    }
   ],
   "source": [
    "my_list= [*range(5)] \n",
    "square_process = map(lambda n: n**2,my_list)\n",
    "squared_numbers=list(square_process)\n",
    "\n",
    "for num in squared_numbers:\n",
    "    if num%2==0:\n",
    "        print(num, end=\" \")"
   ]
  },
  {
   "cell_type": "markdown",
   "id": "8e6bb9e6",
   "metadata": {},
   "source": [
    "# Classes and Objects - Exercise 1 🐍\n",
    "\n",
    "Let's create Animal class and then create the \n",
    "animal object that runs and having 4 legs\n",
    "\n",
    "create animal object with leg count \n",
    "when created print \n",
    "`\"Animal object was created\"`\n",
    "and then call `runs` method of it and it prints \n",
    "`\"Running started\"`"
   ]
  },
  {
   "cell_type": "code",
   "execution_count": null,
   "id": "29a8f3e7",
   "metadata": {},
   "outputs": [],
   "source": [
    "class Animal:\n",
    "    runs:\"Yes\"\n",
    "    leg_count:\"\""
   ]
  }
 ],
 "metadata": {
  "kernelspec": {
   "display_name": "Python 3 (ipykernel)",
   "language": "python",
   "name": "python3"
  },
  "language_info": {
   "codemirror_mode": {
    "name": "ipython",
    "version": 3
   },
   "file_extension": ".py",
   "mimetype": "text/x-python",
   "name": "python",
   "nbconvert_exporter": "python",
   "pygments_lexer": "ipython3",
   "version": "3.9.13"
  }
 },
 "nbformat": 4,
 "nbformat_minor": 5
}
