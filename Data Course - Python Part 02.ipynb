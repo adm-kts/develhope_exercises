{
 "cells": [
  {
   "cell_type": "markdown",
   "id": "2151e5e9",
   "metadata": {},
   "source": [
    "# Iterators - Exercise 1 🐍\n",
    "\n",
    "create \n",
    "\n",
    "*\n",
    "**\n",
    "***\n",
    "****\n",
    "*****\n",
    "\n",
    "this shape with print and while loop statemets"
   ]
  },
  {
   "cell_type": "code",
   "execution_count": 1,
   "id": "33aa6f5e",
   "metadata": {},
   "outputs": [
    {
     "name": "stdout",
     "output_type": "stream",
     "text": [
      "* \n",
      "* * \n",
      "* * * \n",
      "* * * * \n",
      "* * * * * \n"
     ]
    }
   ],
   "source": [
    "i = 1\n",
    "while i <= 5 :\n",
    "    j = 1\n",
    "    while j <= i:\n",
    "        print(\"*\", end = \" \")\n",
    "        j += 1\n",
    "    print()\n",
    "    i += 1"
   ]
  },
  {
   "cell_type": "markdown",
   "id": "2037c425",
   "metadata": {},
   "source": [
    "# Iterators - Exercise 2 🐍\n",
    "\n",
    "create \n",
    "`\n",
    "*\n",
    "***\n",
    "*****\n",
    "`\n",
    "this shape with print, for loop, if and continue statements"
   ]
  },
  {
   "cell_type": "code",
   "execution_count": 2,
   "id": "a801994e",
   "metadata": {
    "scrolled": true
   },
   "outputs": [
    {
     "name": "stdout",
     "output_type": "stream",
     "text": [
      "* \n",
      "\n",
      "* * \n",
      "\n",
      "* * * \n",
      "\n",
      "* * * * \n",
      "\n",
      "* * * * * \n",
      "\n"
     ]
    }
   ],
   "source": [
    "i = 5\n",
    "for i in range(i):\n",
    "    for j in range(i+1):\n",
    "        print(\"* \", end=\"\")\n",
    "    print(\"\\n\")"
   ]
  },
  {
   "cell_type": "markdown",
   "id": "3764c94d",
   "metadata": {},
   "source": [
    "# Iterators - Exercise 3 🐍\n",
    "\n",
    "check if it is time for `coffee break` if it is just break \n",
    "to do that lets iterate through given list don't change the `COFFEE BREAK` statement\n",
    "just find another way to do it "
   ]
  },
  {
   "cell_type": "code",
   "execution_count": 3,
   "id": "fafa6cde",
   "metadata": {},
   "outputs": [
    {
     "name": "stdout",
     "output_type": "stream",
     "text": [
      "exercise1\n",
      "exercise2\n",
      "exercise3\n",
      "coffee break\n"
     ]
    }
   ],
   "source": [
    "todo = [\"exercise1\", \"exercise2\", \"exercise3\",\"coffee break\" ,\"exercise4\",\"exercise5\",\"exercise6\"]\n",
    "for x in todo:\n",
    "    print(x)\n",
    "    if x == \"COFFEE BREAK\".lower():\n",
    "        break\n",
    "\n",
    "  "
   ]
  },
  {
   "cell_type": "markdown",
   "id": "988e8a74",
   "metadata": {},
   "source": [
    "# Iterators - Exercise 4 🐍\n",
    "\n",
    "\n",
    "iterate each elements of `list1`,`tuple1`,`set1` and print them out \n",
    "\n",
    "for the `dict1` iterate all elements but only print the ones who are living on land\n",
    "in the form of `x lives in y`\n",
    "\n"
   ]
  },
  {
   "cell_type": "code",
   "execution_count": 4,
   "id": "e6378b6b",
   "metadata": {},
   "outputs": [
    {
     "name": "stdout",
     "output_type": "stream",
     "text": [
      "lion monkey dog fish\n",
      "lion monkey dog fish\n",
      "fish monkey dog lion \n",
      "\n",
      "lion  lives in  land\n",
      "monkey  lives in  land\n",
      "dog  lives in  land\n"
     ]
    }
   ],
   "source": [
    "list1 = [\"lion\", \"monkey\", \"dog\",\"fish\"]\n",
    "tuple1 = (\"lion\", \"monkey\", \"dog\",\"fish\")\n",
    "set1 = {\"lion\", \"monkey\", \"dog\",\"fish\"}\n",
    "print(*list1)\n",
    "print(*tuple1)\n",
    "print(*set1,\"\\n\")\n",
    "    \n",
    "dict1 = {\"lion\":\"land\", \"monkey\":\"land\", \"dog\":\"land\",\"fish\":\"water\"}\n",
    "for keys,value in dict1.items():\n",
    "    if value==\"land\":\n",
    "        print(keys,\" lives in \",value)"
   ]
  },
  {
   "cell_type": "markdown",
   "id": "679939ff",
   "metadata": {},
   "source": [
    "# Data Structures 🐍\n",
    "\n",
    "Remember `list`,`set`,`dictionary` are mutable and `tuple` is immutable\n",
    "`list`,`tuple` elements can be reached by index  \n",
    "for `dictionary` it is not an option to reach by index the element key has to be known to reach  \n",
    "and for `set` the items cannot be reached directly but it is possible to iterate.\n",
    "\n",
    "1. print the lengths of `list1`,`tuple1`,`set1`,`dict1`\n",
    "2. print the first element of `list1` and `tuple1`\n",
    "3. print the value of `lion` key of `dict1`\n",
    "4. change the 2nd position element of `list1` to \"rabbit\"\n",
    "5. try to change the 2nd position element of the tuple to \"rabbit\" and explain what happened.\n",
    "6. add \"monkey\" to `list1`\n",
    "7. remove \"rabbit\" from `list1`\n",
    "8. in `dict1` the number of feet is written as value to each animal the fixh has wrong value just fix it."
   ]
  },
  {
   "cell_type": "code",
   "execution_count": 46,
   "id": "28525c35",
   "metadata": {},
   "outputs": [
    {
     "name": "stdout",
     "output_type": "stream",
     "text": [
      "1. Answer \n",
      "\n",
      "4\n",
      "4\n",
      "4\n",
      "4\n",
      "\n",
      "2. Answer \n",
      "\n",
      "['lion']\n",
      "('lion',)\n",
      "\n",
      "3. Answer \n",
      "\n",
      "4\n",
      "\n",
      "4. Answer \n",
      "\n",
      "['lion', 'rabbit', 'dog', 'fish']\n",
      "\n",
      "5. Answer \n",
      "\n",
      "['lion', 'rabbit', 'dog', 'fish']\n",
      "my explanation: tuple can not be change, so i convert to list\n",
      "\n",
      "6. Answer \n",
      "\n",
      "['lion', 'rabbit', 'dog', 'fish', 'monkey']\n",
      "\n",
      "7. Answer \n",
      "\n",
      "['lion', 'dog', 'fish', 'monkey']\n",
      "\n",
      "8. Answer \n",
      "\n",
      "{'lion': 4, 'monkey': 2, 'dog': 4, 'fish': 0}\n"
     ]
    }
   ],
   "source": [
    "list1 = [\"lion\", \"monkey\", \"dog\",\"fish\"]\n",
    "tuple1 = (\"lion\", \"monkey\", \"dog\",\"fish\")\n",
    "set1 = {\"lion\", \"monkey\", \"dog\",\"fish\"}\n",
    "dict1 = {\"lion\":4, \"monkey\":2, \"dog\":4,\"fish\":2}\n",
    "print(\"1. Answer \\n\")\n",
    "print(len(list1))\n",
    "print(len(tuple1))\n",
    "print(len(set1))\n",
    "print(len(dict1))\n",
    "\n",
    "print(\"\\n2. Answer \\n\")\n",
    "print(list1[:1])\n",
    "print(tuple1[:1])\n",
    "\n",
    "print(\"\\n3. Answer \\n\")\n",
    "for keys,value in dict1.items():\n",
    "    if keys==\"lion\":\n",
    "        print(value)\n",
    "        \n",
    "print(\"\\n4. Answer \\n\")\n",
    "list1[1]='rabbit'\n",
    "print(list1)\n",
    "\n",
    "print(\"\\n5. Answer \\n\")\n",
    "tuple_to_list=list(tuple1)\n",
    "tuple_to_list[1]='rabbit'\n",
    "print(tuple_to_list)\n",
    "print(\"my explanation: tuple can not be change, so i convert to list\")\n",
    "\n",
    "print(\"\\n6. Answer \\n\")\n",
    "list1.append('monkey')\n",
    "print(list1)\n",
    "\n",
    "print(\"\\n7. Answer \\n\")\n",
    "list1.remove('rabbit')\n",
    "print(list1)\n",
    "\n",
    "print(\"\\n8. Answer \\n\")\n",
    "dict1[\"fish\"]=0\n",
    "print(dict1)"
   ]
  },
  {
   "cell_type": "code",
   "execution_count": null,
   "id": "798550ca",
   "metadata": {},
   "outputs": [],
   "source": []
  }
 ],
 "metadata": {
  "kernelspec": {
   "display_name": "Python 3 (ipykernel)",
   "language": "python",
   "name": "python3"
  },
  "language_info": {
   "codemirror_mode": {
    "name": "ipython",
    "version": 3
   },
   "file_extension": ".py",
   "mimetype": "text/x-python",
   "name": "python",
   "nbconvert_exporter": "python",
   "pygments_lexer": "ipython3",
   "version": "3.9.13"
  }
 },
 "nbformat": 4,
 "nbformat_minor": 5
}
