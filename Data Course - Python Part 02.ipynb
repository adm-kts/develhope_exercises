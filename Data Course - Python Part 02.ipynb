{
 "cells": [
  {
   "cell_type": "markdown",
   "id": "2151e5e9",
   "metadata": {},
   "source": [
    "# Iterators - Exercise 1 🐍\n",
    "\n",
    "create \n",
    "\n",
    "*\n",
    "**\n",
    "***\n",
    "****\n",
    "*****\n",
    "\n",
    "this shape with print and while loop statemets"
   ]
  },
  {
   "cell_type": "code",
   "execution_count": 12,
   "id": "33aa6f5e",
   "metadata": {},
   "outputs": [
    {
     "name": "stdout",
     "output_type": "stream",
     "text": [
      "* \n",
      "* * \n",
      "* * * \n",
      "* * * * \n",
      "* * * * * \n"
     ]
    }
   ],
   "source": [
    "i = 1\n",
    "while i <= 5 :\n",
    "    j = 1\n",
    "    while j <= i:\n",
    "        print(\"*\", end = \" \")\n",
    "        j += 1\n",
    "    print()\n",
    "    i += 1"
   ]
  },
  {
   "cell_type": "markdown",
   "id": "19f9d360",
   "metadata": {},
   "source": [
    "# Iterators - Exercise 2 🐍\n",
    "\n",
    "create \n",
    "`\n",
    "*\n",
    "***\n",
    "*****\n",
    "`\n",
    "this shape with print, for loop, if and continue statements"
   ]
  },
  {
   "cell_type": "code",
   "execution_count": 13,
   "id": "9df0ea98",
   "metadata": {},
   "outputs": [
    {
     "name": "stdout",
     "output_type": "stream",
     "text": [
      "* \n",
      "\n",
      "* * \n",
      "\n",
      "* * * \n",
      "\n",
      "* * * * \n",
      "\n",
      "* * * * * \n",
      "\n"
     ]
    }
   ],
   "source": [
    "i = 5\n",
    "for i in range(i):\n",
    "    for j in range(i+1):\n",
    "        print(\"* \", end=\"\")\n",
    "    print(\"\\n\")"
   ]
  },
  {
   "cell_type": "markdown",
   "id": "96e9580a",
   "metadata": {},
   "source": [
    "# Iterators - Exercise 3 🐍\n",
    "\n",
    "check if it is time for `coffee break` if it is just break \n",
    "to do that lets iterate through given list don't change the `COFFEE BREAK` statement\n",
    "just find another way to do it "
   ]
  },
  {
   "cell_type": "code",
   "execution_count": null,
   "id": "6c2bbec4",
   "metadata": {},
   "outputs": [],
   "source": [
    "todo = [\"exercise1\", \"exercise2\", \"exercise3\",\"coffee break\" ,\"exercise4\",\"exercise5\",\"exercise6\"]\n",
    "for x in todo:\n",
    "    if x._ == \"COFFEE BREAK\":\n",
    "        print(x)\n",
    "        break\n",
    "  "
   ]
  }
 ],
 "metadata": {
  "kernelspec": {
   "display_name": "Python 3 (ipykernel)",
   "language": "python",
   "name": "python3"
  },
  "language_info": {
   "codemirror_mode": {
    "name": "ipython",
    "version": 3
   },
   "file_extension": ".py",
   "mimetype": "text/x-python",
   "name": "python",
   "nbconvert_exporter": "python",
   "pygments_lexer": "ipython3",
   "version": "3.9.13"
  }
 },
 "nbformat": 4,
 "nbformat_minor": 5
}
