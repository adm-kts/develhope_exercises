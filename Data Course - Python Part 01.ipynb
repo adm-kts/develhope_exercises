{
 "cells": [
  {
   "cell_type": "markdown",
   "id": "92e21d74",
   "metadata": {},
   "source": [
    "# Exercise Variables - 1\n",
    "Create a firstName variable and assign the value Mario to it.\n",
    "\n"
   ]
  },
  {
   "cell_type": "code",
   "execution_count": 11,
   "id": "debb1d51",
   "metadata": {},
   "outputs": [
    {
     "data": {
      "text/plain": [
       "'Mario'"
      ]
     },
     "execution_count": 11,
     "metadata": {},
     "output_type": "execute_result"
    }
   ],
   "source": [
    "firstName=\"Mario\"\n",
    "firstName"
   ]
  },
  {
   "cell_type": "markdown",
   "id": "027ad1a9",
   "metadata": {},
   "source": [
    "# Exercise Variables - 2\n",
    "Create an age variable and assign the value 25 to it.\n",
    "\n"
   ]
  },
  {
   "cell_type": "code",
   "execution_count": 7,
   "id": "f841f4a5",
   "metadata": {
    "scrolled": true
   },
   "outputs": [
    {
     "data": {
      "text/plain": [
       "25"
      ]
     },
     "execution_count": 7,
     "metadata": {},
     "output_type": "execute_result"
    }
   ],
   "source": [
    "age=25\n",
    "age"
   ]
  },
  {
   "cell_type": "markdown",
   "id": "c5a20e43",
   "metadata": {},
   "source": [
    "# Exercise Variables - 3\n",
    "Create a sentence variable and assign the value Hello, I'm Mario! to it without using double quotes."
   ]
  },
  {
   "cell_type": "code",
   "execution_count": 32,
   "id": "2fb90211",
   "metadata": {},
   "outputs": [
    {
     "data": {
      "text/plain": [
       "\"Hello, I'm Mario!\""
      ]
     },
     "execution_count": 32,
     "metadata": {},
     "output_type": "execute_result"
    }
   ],
   "source": [
    "sentence='Hello, I\\'m Mario!'\n",
    "sentence"
   ]
  },
  {
   "cell_type": "markdown",
   "id": "be14e736",
   "metadata": {},
   "source": [
    "# Exercise Variables - 4\n",
    "Create an amount variable and assign a float value to it."
   ]
  },
  {
   "cell_type": "code",
   "execution_count": 31,
   "id": "cc04e1f2",
   "metadata": {},
   "outputs": [
    {
     "data": {
      "text/plain": [
       "(3, 14)"
      ]
     },
     "execution_count": 31,
     "metadata": {},
     "output_type": "execute_result"
    }
   ],
   "source": [
    "amount=3,14\n",
    "amount"
   ]
  },
  {
   "cell_type": "markdown",
   "id": "db87cc7b",
   "metadata": {},
   "source": [
    "# Exercise Variables - 5\n",
    "Create a set of 3 variables and assign True as value of each one.\n",
    "\n"
   ]
  },
  {
   "cell_type": "code",
   "execution_count": 22,
   "id": "5e15770f",
   "metadata": {},
   "outputs": [
    {
     "name": "stdout",
     "output_type": "stream",
     "text": [
      "True\n",
      "True\n",
      "True\n"
     ]
    }
   ],
   "source": [
    "print(bool(\"abc\"))\n",
    "print(bool(123))\n",
    "print(bool([\"apple\", \"cherry\", \"banana\"]))"
   ]
  },
  {
   "cell_type": "markdown",
   "id": "c42f83b4",
   "metadata": {},
   "source": [
    "# Exercise Variables - 6\n",
    "Remove the illegal characters in the variable 1my-first2_Name = 'Mario'.\n",
    "\n"
   ]
  },
  {
   "cell_type": "code",
   "execution_count": 28,
   "id": "ce0abbdf",
   "metadata": {},
   "outputs": [
    {
     "data": {
      "text/plain": [
       "'Mario'"
      ]
     },
     "execution_count": 28,
     "metadata": {},
     "output_type": "execute_result"
    }
   ],
   "source": [
    "my_first2_Name='Mario'\n",
    "my_first2_Name"
   ]
  },
  {
   "cell_type": "markdown",
   "id": "b21c6429",
   "metadata": {},
   "source": [
    "# Exercise Variables - 7\n",
    "Write single quotes or double quotes correctly\n",
    "\n"
   ]
  },
  {
   "cell_type": "code",
   "execution_count": 33,
   "id": "85099cb2",
   "metadata": {},
   "outputs": [
    {
     "name": "stdout",
     "output_type": "stream",
     "text": [
      "You can use \"double quotes\" like this.\n"
     ]
    }
   ],
   "source": [
    "print('You can use \"double quotes\" like this.')"
   ]
  },
  {
   "cell_type": "markdown",
   "id": "676c1b47",
   "metadata": {},
   "source": [
    "# Exercise Variables - 8\n",
    "Create 3 different variables and assign 3 different values. Write only one operation. Print them on terminal\n",
    "\n",
    "\n"
   ]
  },
  {
   "cell_type": "code",
   "execution_count": 12,
   "id": "20144ba0",
   "metadata": {},
   "outputs": [
    {
     "name": "stdout",
     "output_type": "stream",
     "text": [
      "i love Develhope\n",
      "Abdullah is the Best\n"
     ]
    }
   ],
   "source": [
    "var1='i '\n",
    "var2='love '\n",
    "var3='Develhope'\n",
    "print(var1+var2+var3)\n",
    "#corrected answer⬇️\n",
    "var1,var2,var3='Abdullah','is the','Best'\n",
    "print(var1+' '+var2+' '+var3)\n"
   ]
  },
  {
   "cell_type": "markdown",
   "id": "1885cf16",
   "metadata": {},
   "source": [
    "# Exercise Variables - 9\n",
    "Swap the value of the variables\n"
   ]
  },
  {
   "cell_type": "code",
   "execution_count": 8,
   "id": "8ba23554",
   "metadata": {},
   "outputs": [
    {
     "name": "stdout",
     "output_type": "stream",
     "text": [
      "7\n",
      "7\n",
      "7\n",
      "7\n"
     ]
    }
   ],
   "source": [
    "var1=3\n",
    "var2=7\n",
    "var1=var2\n",
    "print(var1)\n",
    "print(var2)\n",
    "#corrected answer⬇️\n",
    "var1,var2=var2,var1\n",
    "print(var1)\n",
    "print(var2)"
   ]
  },
  {
   "cell_type": "markdown",
   "id": "bbb0cd7e",
   "metadata": {},
   "source": [
    "# Exercise Variables - 10\n",
    "Print the length of each variable.\n",
    "\n",
    "\n"
   ]
  },
  {
   "cell_type": "code",
   "execution_count": 3,
   "id": "75545e68",
   "metadata": {},
   "outputs": [
    {
     "name": "stdout",
     "output_type": "stream",
     "text": [
      "6\n",
      "8\n",
      "2\n"
     ]
    }
   ],
   "source": [
    "hello =\"Hello!\"\n",
    "name =\"John Doe\"\n",
    "age=\"40\"\n",
    "\n",
    "print(len(hello))\n",
    "print(len(name))\n",
    "print(len(age))"
   ]
  },
  {
   "cell_type": "markdown",
   "id": "e3f15905",
   "metadata": {},
   "source": [
    "# Exercise Variables - 11\n",
    "Modify the variables as suggested"
   ]
  },
  {
   "cell_type": "code",
   "execution_count": 5,
   "id": "e707a634",
   "metadata": {},
   "outputs": [
    {
     "name": "stdout",
     "output_type": "stream",
     "text": [
      "Hello TOM laura Hew are yeu How old are you?\n",
      "['How', 'old', 'are', 'you?']\n"
     ]
    }
   ],
   "source": [
    "a = 'hello' #capitalize\n",
    "b = 'tom' #uppercase\n",
    "c = 'LAURA' #lowercase\n",
    "question = 'How are you' #change o in e\n",
    "age_question = 'How old are you?' #use the correct method to create a string for each word\n",
    "print(a.capitalize(), b.upper(), c.lower(), question.replace(\"o\",\"e\"), age_question)\n",
    "#corrected answer⬇️\n",
    "print(age_question.split())"
   ]
  },
  {
   "cell_type": "markdown",
   "id": "1bef9f92",
   "metadata": {},
   "source": [
    "# Exercise Variables - 12\n",
    "Create two variables called name and age. Then create a variable called hello and print the name and the age. Use the formatted string literal.\n"
   ]
  },
  {
   "cell_type": "code",
   "execution_count": 79,
   "id": "b6b26fc2",
   "metadata": {},
   "outputs": [
    {
     "name": "stdout",
     "output_type": "stream",
     "text": [
      "Hello,  Mike . You are 30\n"
     ]
    }
   ],
   "source": [
    "name=\"Mike\"\n",
    "age=30\n",
    "print(\"Hello, \",name,\". You are\", age)"
   ]
  },
  {
   "cell_type": "markdown",
   "id": "10912e63",
   "metadata": {},
   "source": [
    "# Exercise Operators - 1\n",
    "\n",
    "Insert the appropriate logical operator in order to print False\n",
    "\n"
   ]
  },
  {
   "cell_type": "code",
   "execution_count": 5,
   "id": "8a75b931",
   "metadata": {},
   "outputs": [
    {
     "name": "stdout",
     "output_type": "stream",
     "text": [
      "False\n"
     ]
    }
   ],
   "source": [
    "print(False and True) # Should print False"
   ]
  },
  {
   "cell_type": "markdown",
   "id": "47f60935",
   "metadata": {},
   "source": [
    "# Exercise Operators - 2\n",
    "Change the logical operators in order to print True\n",
    "\n"
   ]
  },
  {
   "cell_type": "code",
   "execution_count": 83,
   "id": "dd37ffb7",
   "metadata": {},
   "outputs": [
    {
     "name": "stdout",
     "output_type": "stream",
     "text": [
      "True\n"
     ]
    }
   ],
   "source": [
    "print(False or (0 != 0 or True)) # Should print True"
   ]
  },
  {
   "cell_type": "markdown",
   "id": "a0ef41b8",
   "metadata": {},
   "source": [
    "# Exercise Operators - 3\n",
    "Print the rest of the 5/2 division"
   ]
  },
  {
   "cell_type": "code",
   "execution_count": 7,
   "id": "ae017db7",
   "metadata": {},
   "outputs": [
    {
     "name": "stdout",
     "output_type": "stream",
     "text": [
      "2.5\n",
      "1\n"
     ]
    }
   ],
   "source": [
    "print(5/2)\n",
    "#corrected answer⬇️\n",
    "print(5%2)"
   ]
  },
  {
   "cell_type": "markdown",
   "id": "d3ff5814",
   "metadata": {},
   "source": [
    "# Exercise Operators - 4\n",
    "\n",
    "Insert the appropriate logical operator in order to print True.\n",
    "\n"
   ]
  },
  {
   "cell_type": "code",
   "execution_count": 88,
   "id": "9cd5eae4",
   "metadata": {},
   "outputs": [
    {
     "name": "stdout",
     "output_type": "stream",
     "text": [
      "True\n"
     ]
    }
   ],
   "source": [
    "print(not (\"testing\" == \"testing\" and \"Mario\" == \"Cool Guy\")) # Should print True"
   ]
  },
  {
   "cell_type": "markdown",
   "id": "9cf94f57",
   "metadata": {},
   "source": [
    "# Exercise Operators - 5\n",
    "\n",
    "Initialize and print the sentence variable using the appropriate operators.\n",
    "\n"
   ]
  },
  {
   "cell_type": "code",
   "execution_count": 100,
   "id": "1efd668b",
   "metadata": {},
   "outputs": [
    {
     "name": "stdout",
     "output_type": "stream",
     "text": [
      "\"Mario Rossi\"\n"
     ]
    }
   ],
   "source": [
    "firstName = \"Mario\"\n",
    "lastName = \"Rossi\"\n",
    "\n",
    "sentence = '\"'+firstName+\" \"+ lastName+'\"'\n",
    "\n",
    "print(sentence) # Should print \"Mario Rossi\"\n"
   ]
  },
  {
   "cell_type": "markdown",
   "id": "cfc56130",
   "metadata": {},
   "source": [
    "# Exercise Operators - 6\n",
    "\n",
    "Check if \"Nike\" is in brands array using the appropriate logical operator\n"
   ]
  },
  {
   "cell_type": "code",
   "execution_count": 115,
   "id": "db171937",
   "metadata": {},
   "outputs": [
    {
     "name": "stdout",
     "output_type": "stream",
     "text": [
      "True\n"
     ]
    }
   ],
   "source": [
    "brands = [\"Adidas\", \"Nike\"]\n",
    "exists=\"Nike\" in brands\n",
    "print(exists)"
   ]
  },
  {
   "cell_type": "markdown",
   "id": "027171e3",
   "metadata": {},
   "source": [
    "# Exercise Operators - 7\n",
    "Check if \"Reebok\" is not in brands array using the appropriate logical operator\n"
   ]
  },
  {
   "cell_type": "code",
   "execution_count": 114,
   "id": "4d7dc2f2",
   "metadata": {},
   "outputs": [
    {
     "name": "stdout",
     "output_type": "stream",
     "text": [
      "False\n"
     ]
    }
   ],
   "source": [
    "brands = [\"Adidas\", \"Nike\"]\n",
    "exists=\"Reebok\" in brands\n",
    "print(exists)"
   ]
  },
  {
   "cell_type": "markdown",
   "id": "56ebba68",
   "metadata": {},
   "source": [
    "# Exercise Methods - 1\n",
    "\n",
    "\n",
    "With type command you can see the type of a variable in python eg: type(1) print each components type with this way you can see most significant data types in python\n",
    "\n"
   ]
  },
  {
   "cell_type": "code",
   "execution_count": 6,
   "id": "6fb91a9b",
   "metadata": {},
   "outputs": [
    {
     "name": "stdout",
     "output_type": "stream",
     "text": [
      "Hello World\n",
      "True\n",
      "False\n",
      "33\n",
      "24.5\n",
      "(4+1j)\n",
      "4j\n",
      "['lion', 'monkey', 'dog', 'fish']\n",
      "('lion', 'monkey', 'dog', 'fish')\n",
      "{'name': 'John', 'surname': 'Doe', 'age': 22}\n",
      "['dog', 'fish', 'lion', 'monkey']\n",
      "<class 'str'>\n",
      "<class 'bool'>\n",
      "<class 'bool'>\n",
      "<class 'int'>\n",
      "<class 'float'>\n",
      "<class 'complex'>\n",
      "<class 'complex'>\n",
      "<class 'list'>\n",
      "<class 'tuple'>\n",
      "<class 'dict'>\n",
      "<class 'set'>\n"
     ]
    }
   ],
   "source": [
    "print(str(\"Hello World\"))\n",
    "print(bool(True))\n",
    "print(bool(False))\n",
    "print(int(33))\n",
    "print(float(24.5))\n",
    "print(str(4+1j))\n",
    "print(complex(4j))\n",
    "print(list([\"lion\", \"monkey\", \"dog\",\"fish\"]))\n",
    "print(tuple((\"lion\", \"monkey\", \"dog\",\"fish\")))\n",
    "print(dict({\"name\" : \"John\", \"surname\" : \"Doe\", \"age\":22}))\n",
    "print(list({\"lion\", \"monkey\", \"dog\",\"fish\"}))\n",
    "#corrected answer⬇️\n",
    "print(type(\"Hello World\"))\n",
    "print(type(True))\n",
    "print(type(False))\n",
    "print(type(33))\n",
    "print(type(24.5))\n",
    "print(type(4+1j))\n",
    "print(type(4j))\n",
    "print(type([\"lion\", \"monkey\", \"dog\",\"fish\"]))\n",
    "print(type((\"lion\", \"monkey\", \"dog\",\"fish\")))\n",
    "print(type({\"name\" : \"John\", \"surname\" : \"Doe\", \"age\":22}))\n",
    "print(type({\"lion\", \"monkey\", \"dog\",\"fish\"}))"
   ]
  },
  {
   "cell_type": "markdown",
   "id": "ec6a836b",
   "metadata": {},
   "source": [
    "# Exercise Methods - 2\n",
    "\n",
    "\n",
    "the number types can be converted to each other wit the int() float() complex() methods also float numbers can be rounded with the method round()\n",
    "<ol>\n",
    "<li>convert num1 to float and assign to itself</li>\n",
    "<li>convert num2 to int and assign to itself</li>\n",
    "<li>convert num3 to complex and assign to itself</li>\n",
    "<li>use round method for num4 and assign to itself</li>\n",
    "<li>use round method for num5 and assign to itself</li>\n",
    "<li>print them all</li>\n",
    "<li>print their types</li>\n",
    "</ol>"
   ]
  },
  {
   "cell_type": "code",
   "execution_count": 14,
   "id": "e0929681",
   "metadata": {},
   "outputs": [
    {
     "name": "stdout",
     "output_type": "stream",
     "text": [
      "1.3\n",
      "2\n",
      "1j\n",
      "1\n",
      "2\n"
     ]
    }
   ],
   "source": [
    "num1 = 1.3\n",
    "num2 = 2.3\n",
    "num3 = 1j \n",
    "num4 = 1.4 \n",
    "num5 = 1.5\n",
    "print(float(num1))\n",
    "print(int(num2))\n",
    "print(complex(num3))\n",
    "print(round(num4))\n",
    "print(round(num5))\n"
   ]
  },
  {
   "cell_type": "markdown",
   "id": "17075cb9",
   "metadata": {},
   "source": [
    "# Exercise Methods - 3\n",
    "\n",
    "\n",
    "to convert a number to string we can use str() function this is called casting\n",
    "\n",
    "<ol>\n",
    "<li>cast num1 to string and assign to num1_str</li>\n",
    "<li>check the length of the string</li>\n",
    "<li>get the third element of string (the one in the 3rd order)</li>\n",
    "<li>get the 3-5 elements of string (both inclusive) by string slicing</li>\n",
    "<li>check if num2 in string (cast if necessary)</li>\n",
    "<li>check if num3 in string (cast if necessary)</li>\n",
    "<li>concatenate 0 to the string from left and assign to string_with_0</li>\n",
    "<li>get the characters of string_with_0 from start to position 4 (end point exclusive)</li>\n",
    "<li>get the characters of string_with_0 from position 5 until the end</li>\n",
    "<li>use negative indexing to reach the \"567\" string_with_0</li>\n",
    "</ol>"
   ]
  },
  {
   "cell_type": "code",
   "execution_count": 43,
   "id": "6aa8eb25",
   "metadata": {},
   "outputs": [
    {
     "name": "stdout",
     "output_type": "stream",
     "text": [
      "1. Answer : <class 'str'>\n",
      "2. Answer : 13\n",
      "3. Answer : 2\n",
      "4. Answer : 23\n",
      "5. Answer : True\n",
      "6. Answer : True\n",
      "7. Answer : 01122334455666\n",
      "8. Answer : 2334455666\n",
      "9. Answer : 334455666\n",
      "10. Answer : 566 Ps: i didn't understand the question correctly i guess. There is no 7 in this string so i can't create 567\n"
     ]
    }
   ],
   "source": [
    "num1 = 1122334455666\n",
    "num1_str=str(num1)\n",
    "print(\"1. Answer :\", type(num1_str))\n",
    "print(\"2. Answer :\", len(num1_str))\n",
    "print(\"3. Answer :\", num1_str[3])\n",
    "print(\"4. Answer :\", num1_str[3:5])\n",
    "print(\"5. Answer :\", num1_str.__contains__('2'))\n",
    "print(\"6. Answer :\", num1_str.__contains__('3'))\n",
    "string_with_0='0'+num1_str\n",
    "print(\"7. Answer :\", string_with_0)\n",
    "print(\"8. Answer :\", string_with_0[4:len(string_with_0)])\n",
    "print(\"9. Answer :\", string_with_0[5:len(string_with_0)])\n",
    "print(\"10. Answer :\", string_with_0[-4:-1],\"Ps: i didn't understand the question correctly i guess. There is no 7 in this string so i can't create 567\")"
   ]
  },
  {
   "cell_type": "markdown",
   "id": "db0d352b",
   "metadata": {},
   "source": [
    "# Exercise Conditions - 1\n",
    "\n",
    "print if num1 or num2 is greater num1 = 335 num2 = 66\n",
    "\n"
   ]
  },
  {
   "cell_type": "code",
   "execution_count": 159,
   "id": "2b856f1f",
   "metadata": {},
   "outputs": [
    {
     "name": "stdout",
     "output_type": "stream",
     "text": [
      "335 is greater than 66\n"
     ]
    }
   ],
   "source": [
    "num1 = 335\n",
    "num2 = 66\n",
    "\n",
    "if num1 > num2:\n",
    "    print(f\"{num1} is greater than {num2}\")\n",
    "else:\n",
    "    print(f\"{num1} is not greater than {num2}\")"
   ]
  },
  {
   "cell_type": "markdown",
   "id": "a938cb55",
   "metadata": {},
   "source": [
    "# Exercise Conditions - 2\n",
    "\n",
    "<p _ngcontent-xje-c192=\"\"><p>check if number1 is greater than number 2 and print <code>number1 is greater than number2</code> \n",
    "then check and if number 2 is greater than number 1 and print <code>number2 is greater than number1</code> \n",
    "finally at the end if both conditions incorrect print <code>number2 equals to number1</code></p>\n",
    "<p>number1 = 66\n",
    "number2 = 66</p>\n",
    "</p>\n",
    "\n"
   ]
  },
  {
   "cell_type": "code",
   "execution_count": 162,
   "id": "dd9e4d11",
   "metadata": {},
   "outputs": [
    {
     "name": "stdout",
     "output_type": "stream",
     "text": [
      "66 equals to 66\n"
     ]
    }
   ],
   "source": [
    "number1 = 66\n",
    "number2 = 66\n",
    "\n",
    "if number1>number2:\n",
    "    print(f\"{number1} is greater than {number2}\")\n",
    "elif number1<number2:\n",
    "    print(f\"{number2} is greater than {number1}\")    \n",
    "else:\n",
    "    print(f\"{number1} equals to {number2}\")\n"
   ]
  },
  {
   "cell_type": "markdown",
   "id": "9fba9a32",
   "metadata": {},
   "source": [
    "# Exercise Conditions - 3\n",
    "Compare those 2 numbers and write X greater than Y But be sure you are making the check for all the conditions"
   ]
  },
  {
   "cell_type": "code",
   "execution_count": 167,
   "id": "26c77d31",
   "metadata": {},
   "outputs": [
    {
     "name": "stdout",
     "output_type": "stream",
     "text": [
      "89 is greater than 54\n"
     ]
    }
   ],
   "source": [
    "import random\n",
    "\n",
    "number1 = random.randint(1,100)\n",
    "number2 = random.randint(1,100)\n",
    "\n",
    "# Compare the numbers to eachother \n",
    "\n",
    "if number1>number2:\n",
    "    print(f\"{number1} is greater than {number2}\")\n",
    "elif number1<number2:\n",
    "    print(f\"{number2} is greater than {number1}\")    \n",
    "else:\n",
    "    print(f\"{number1} equals to {number2}\")\n"
   ]
  },
  {
   "cell_type": "markdown",
   "id": "64891b2a",
   "metadata": {},
   "source": [
    "# Exercise Conditions - 4\n",
    "<p>Compare those 2 numbers' absolute values \n",
    " and write <code>X's absolute value greater than Y's absolute value</code>\n",
    "Use <code>abs</code> function to do that<br>eg.<br><code>abs(-5)</code> -&gt; 5<br>abs function makes all numbers positive </p>"
   ]
  },
  {
   "cell_type": "code",
   "execution_count": 174,
   "id": "8153a5f4",
   "metadata": {},
   "outputs": [
    {
     "name": "stdout",
     "output_type": "stream",
     "text": [
      "55's absolute value greater than -21's absolute value \n"
     ]
    }
   ],
   "source": [
    "import random\n",
    "\n",
    "number1 = random.randint(-100,100)\n",
    "number2 = random.randint(-100,100)\n",
    "\n",
    "    \n",
    "if abs(number1)>abs(number2):\n",
    "    print(f\"{number1}'s absolute value greater than {number2}'s absolute value\")\n",
    "elif abs(number1)<abs(number2):\n",
    "    print(f\"{number2}'s absolute value greater than {number1}'s absolute value \")    \n",
    "else:\n",
    "    print(f\"{number1}'s absolute value equals to {number2} 's ablolute value\")\n"
   ]
  },
  {
   "cell_type": "code",
   "execution_count": null,
   "id": "5680e57d",
   "metadata": {},
   "outputs": [],
   "source": []
  }
 ],
 "metadata": {
  "kernelspec": {
   "display_name": "Python 3 (ipykernel)",
   "language": "python",
   "name": "python3"
  },
  "language_info": {
   "codemirror_mode": {
    "name": "ipython",
    "version": 3
   },
   "file_extension": ".py",
   "mimetype": "text/x-python",
   "name": "python",
   "nbconvert_exporter": "python",
   "pygments_lexer": "ipython3",
   "version": "3.9.13"
  }
 },
 "nbformat": 4,
 "nbformat_minor": 5
}
